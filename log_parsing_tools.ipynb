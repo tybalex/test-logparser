{
 "cells": [
  {
   "cell_type": "code",
   "execution_count": 1,
   "metadata": {},
   "outputs": [],
   "source": [
    "log_file = \"test.log\"\n",
    "# log_file = \"supbundle/logs/cattle-logging-system/harvester-default-event-tailer-0/event-tailer.log\""
   ]
  },
  {
   "cell_type": "markdown",
   "metadata": {},
   "source": [
    "## Tool1: given a logfile, get the log templates"
   ]
  },
  {
   "cell_type": "code",
   "execution_count": 2,
   "metadata": {},
   "outputs": [
    {
     "name": "stdout",
     "output_type": "stream",
     "text": [
      "----------clusters:--------------------\n",
      "ID=3     : size=442       : Sun <CUSTOMDATE> <TOKENWITHDIGIT> notice <TOKENWITHDIGIT> Found child <NUM> in scoreboard slot <NUM>\n",
      "ID=8     : size=394       : Mon <CUSTOMDATE> <TOKENWITHDIGIT> notice <TOKENWITHDIGIT> Found child <NUM> in scoreboard slot <NUM>\n",
      "ID=1     : size=298       : Sun <CUSTOMDATE> <TOKENWITHDIGIT> notice workerEnv.init ok <PATH>\n",
      "ID=2     : size=281       : Sun <CUSTOMDATE> <TOKENWITHDIGIT> error mod_jk child workerEnv in error state <NUM>\n",
      "ID=9     : size=271       : Mon <CUSTOMDATE> <TOKENWITHDIGIT> notice workerEnv.init ok <PATH>\n",
      "ID=10    : size=258       : Mon <CUSTOMDATE> <TOKENWITHDIGIT> error mod_jk child workerEnv in error state <NUM>\n",
      "ID=4     : size=18        : Sun <CUSTOMDATE> <TOKENWITHDIGIT> error client <IP> Directory index forbidden by rule : <PATH>/\n",
      "ID=7     : size=14        : Mon <CUSTOMDATE> <TOKENWITHDIGIT> error client <IP> Directory index forbidden by rule : <PATH>/\n",
      "ID=5     : size=6         : Sun <CUSTOMDATE> <TOKENWITHDIGIT> error <TOKENWITHDIGIT> Can t find child <NUM> in scoreboard\n",
      "ID=6     : size=6         : Sun <CUSTOMDATE> <TOKENWITHDIGIT> error mod_jk child init <NUM> <TOKENWITHDIGIT>\n",
      "ID=11    : size=6         : Mon <CUSTOMDATE> <TOKENWITHDIGIT> error <TOKENWITHDIGIT> Can t find child <NUM> in scoreboard\n",
      "ID=12    : size=6         : Mon <CUSTOMDATE> <TOKENWITHDIGIT> error mod_jk child init <NUM> <TOKENWITHDIGIT>\n"
     ]
    }
   ],
   "source": [
    "from drain_parse import get_log_templates, get_parameters_by_cluster\n",
    "\n",
    "clusters, template_miner, log_lines = get_log_templates(log_file)"
   ]
  },
  {
   "cell_type": "markdown",
   "metadata": {},
   "source": [
    "## Tool2: given the log_file and the template_miner, get the parameters by cluster\n",
    "then for each cluster ID, we can return the parameters"
   ]
  },
  {
   "cell_type": "code",
   "execution_count": 4,
   "metadata": {},
   "outputs": [
    {
     "name": "stdout",
     "output_type": "stream",
     "text": [
      "[{'<CUSTOMDATE>': ('Dec', '04', '17', '43', '12')}, {'<TOKENWITHDIGIT>': '2005]'}, {'<NUM>': ('', '1', '')}, {'<TOKENWITHDIGIT>': '-2'}]\n",
      "[{'<CUSTOMDATE>': ('Dec', '04', '17', '43', '12')}, {'<TOKENWITHDIGIT>': '2005]'}, {'<NUM>': ('', '1', '')}, {'<TOKENWITHDIGIT>': '-2'}]\n",
      "[{'<CUSTOMDATE>': ('Dec', '04', '20', '47', '16')}, {'<TOKENWITHDIGIT>': '2005]'}, {'<NUM>': ('', '1', '')}, {'<TOKENWITHDIGIT>': '-2'}]\n",
      "[{'<CUSTOMDATE>': ('Dec', '04', '20', '47', '17')}, {'<TOKENWITHDIGIT>': '2005]'}, {'<NUM>': ('', '1', '')}, {'<TOKENWITHDIGIT>': '-2'}]\n",
      "[{'<CUSTOMDATE>': ('Dec', '04', '20', '47', '17')}, {'<TOKENWITHDIGIT>': '2005]'}, {'<NUM>': ('', '1', '')}, {'<TOKENWITHDIGIT>': '-2'}]\n",
      "[{'<CUSTOMDATE>': ('Dec', '04', '20', '47', '17')}, {'<TOKENWITHDIGIT>': '2005]'}, {'<NUM>': ('', '1', '')}, {'<TOKENWITHDIGIT>': '-2'}]\n"
     ]
    }
   ],
   "source": [
    "parameters_by_cluster = get_parameters_by_cluster(template_miner, log_lines)\n",
    "for p in parameters_by_cluster[6]:\n",
    "    print(p)\n"
   ]
  },
  {
   "cell_type": "code",
   "execution_count": null,
   "metadata": {},
   "outputs": [],
   "source": []
  }
 ],
 "metadata": {
  "kernelspec": {
   "display_name": "otto8-log-tool-Tt2WJkHQ-py3.9",
   "language": "python",
   "name": "python3"
  },
  "language_info": {
   "codemirror_mode": {
    "name": "ipython",
    "version": 3
   },
   "file_extension": ".py",
   "mimetype": "text/x-python",
   "name": "python",
   "nbconvert_exporter": "python",
   "pygments_lexer": "ipython3",
   "version": "3.11.7"
  }
 },
 "nbformat": 4,
 "nbformat_minor": 2
}
